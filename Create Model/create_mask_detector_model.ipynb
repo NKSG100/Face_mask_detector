{
 "cells": [
  {
   "cell_type": "code",
   "execution_count": 1,
   "id": "1ba3a8bf",
   "metadata": {},
   "outputs": [
    {
     "name": "stdout",
     "output_type": "stream",
     "text": [
      "WARNING:tensorflow:From C:\\ProgramData\\Anaconda3\\Lib\\site-packages\\keras\\src\\losses.py:2976: The name tf.losses.sparse_softmax_cross_entropy is deprecated. Please use tf.compat.v1.losses.sparse_softmax_cross_entropy instead.\n",
      "\n"
     ]
    }
   ],
   "source": [
    "import os\n",
    "import cv2\n",
    "import random\n",
    "import numpy as np\n",
    "from tensorflow.keras.preprocessing.image import ImageDataGenerator\n",
    "from tensorflow.keras.applications import MobileNetV2\n",
    "from tensorflow.keras.applications import ResNet50\n",
    "from tensorflow.keras.applications import VGG16\n",
    "from tensorflow.keras.layers import AveragePooling2D\n",
    "from tensorflow.keras.layers import Dropout\n",
    "from tensorflow.keras.layers import Flatten\n",
    "from tensorflow.keras.layers import Dense\n",
    "from tensorflow.keras.layers import Input\n",
    "from tensorflow.keras.models import Model\n",
    "from tensorflow.keras.optimizers import Adam\n",
    "from tensorflow.keras.applications.mobilenet_v2 import preprocess_input\n",
    "from tensorflow.keras.preprocessing.image import img_to_array\n",
    "from tensorflow.keras.preprocessing.image import load_img\n",
    "from tensorflow.keras.utils import to_categorical\n",
    "from sklearn.preprocessing import LabelBinarizer\n",
    "from sklearn.model_selection import train_test_split\n",
    "from sklearn.metrics import classification_report\n",
    "from imutils import paths\n",
    "import matplotlib.pyplot as plt\n",
    "import PIL"
   ]
  },
  {
   "cell_type": "code",
   "execution_count": 2,
   "id": "f8e10e7d",
   "metadata": {},
   "outputs": [],
   "source": [
    "from keras.preprocessing import image"
   ]
  },
  {
   "cell_type": "code",
   "execution_count": 3,
   "id": "82b0ea3c",
   "metadata": {},
   "outputs": [],
   "source": [
    "Types=['with_mask','without_mask']"
   ]
  },
  {
   "cell_type": "code",
   "execution_count": 4,
   "id": "292992a8",
   "metadata": {},
   "outputs": [
    {
     "name": "stderr",
     "output_type": "stream",
     "text": [
      "C:\\ProgramData\\Anaconda3\\Lib\\site-packages\\PIL\\Image.py:996: UserWarning: Palette images with Transparency expressed in bytes should be converted to RGBA images\n",
      "  warnings.warn(\n"
     ]
    }
   ],
   "source": [
    "data=[]  #to store images.\n",
    "label=[] #to store type image stored in data.\n",
    "for Type in Types:\n",
    "    path=os.path.join('dataset',Type)\n",
    "    for file in os.listdir(path):\n",
    "        img_path=os.path.join(path,file)\n",
    "        img = load_img(img_path, target_size=(224,224))\n",
    "        img= img_to_array(img)\n",
    "        img=preprocess_input(img)\n",
    "\n",
    "        \n",
    "        data.append(img)\n",
    "        label.append(Type)"
   ]
  },
  {
   "cell_type": "code",
   "execution_count": 5,
   "id": "d49b87c6",
   "metadata": {},
   "outputs": [],
   "source": [
    "#Converting Label to numerical values/one-hot encoding.\n",
    "LB=LabelBinarizer()\n",
    "label=LB.fit_transform(label)\n",
    "label=to_categorical(label)"
   ]
  },
  {
   "cell_type": "code",
   "execution_count": 6,
   "id": "189b32ff",
   "metadata": {},
   "outputs": [],
   "source": [
    "#coverting both data and labels to Numpy arrays for calculation.\n",
    "data = np.array(data, dtype=\"float32\")\n",
    "labels = np.array(label)"
   ]
  },
  {
   "cell_type": "code",
   "execution_count": 7,
   "id": "1c05bc1e",
   "metadata": {},
   "outputs": [
    {
     "data": {
      "text/plain": [
       "7553"
      ]
     },
     "execution_count": 7,
     "metadata": {},
     "output_type": "execute_result"
    }
   ],
   "source": [
    "len(data)"
   ]
  },
  {
   "cell_type": "code",
   "execution_count": 8,
   "id": "bc5f6b71",
   "metadata": {},
   "outputs": [],
   "source": [
    "#separating data for training and testing.\n",
    "x_train,x_test,y_train,y_test= train_test_split(data,label,test_size=0.2)"
   ]
  },
  {
   "cell_type": "code",
   "execution_count": 9,
   "id": "7f8edaa4",
   "metadata": {},
   "outputs": [
    {
     "data": {
      "text/plain": [
       "(6042, 224, 224, 3)"
      ]
     },
     "execution_count": 9,
     "metadata": {},
     "output_type": "execute_result"
    }
   ],
   "source": [
    "x_train.shape"
   ]
  },
  {
   "cell_type": "code",
   "execution_count": 10,
   "id": "e5c8727a",
   "metadata": {},
   "outputs": [],
   "source": [
    "#data augmentation\n",
    "#Generates more images from one image.\n",
    "Generator1 = ImageDataGenerator(\n",
    "    rotation_range=10,\n",
    "    zoom_range=0.15,\n",
    "    width_shift_range=0.2,\n",
    "    height_shift_range=0.2,\n",
    "    shear_range=0.15,\n",
    "    horizontal_flip=True,\n",
    "    fill_mode=\"nearest\")"
   ]
  },
  {
   "cell_type": "code",
   "execution_count": 11,
   "id": "0467dfd7",
   "metadata": {},
   "outputs": [
    {
     "name": "stdout",
     "output_type": "stream",
     "text": [
      "WARNING:tensorflow:From C:\\ProgramData\\Anaconda3\\Lib\\site-packages\\keras\\src\\backend.py:1398: The name tf.executing_eagerly_outside_functions is deprecated. Please use tf.compat.v1.executing_eagerly_outside_functions instead.\n",
      "\n",
      "WARNING:tensorflow:From C:\\ProgramData\\Anaconda3\\Lib\\site-packages\\keras\\src\\layers\\normalization\\batch_normalization.py:979: The name tf.nn.fused_batch_norm is deprecated. Please use tf.compat.v1.nn.fused_batch_norm instead.\n",
      "\n"
     ]
    }
   ],
   "source": [
    "#Loading MobileNetV2 model in which the fully-connected output layers of the model used to make predictions is\n",
    "#not loaded,allowing a new output layer to be added and trained\n",
    "\n",
    "Model1=MobileNetV2(weights=\"imagenet\",include_top = False,input_shape=(224,224,3))"
   ]
  },
  {
   "cell_type": "code",
   "execution_count": 12,
   "id": "19424ac5",
   "metadata": {},
   "outputs": [],
   "source": [
    "#Creating Head of our model.\n",
    "Model2=Model1.output"
   ]
  },
  {
   "cell_type": "code",
   "execution_count": 13,
   "id": "cd232da1",
   "metadata": {},
   "outputs": [],
   "source": [
    "Model2=AveragePooling2D(pool_size=(7,7))(Model2)"
   ]
  },
  {
   "cell_type": "code",
   "execution_count": 14,
   "id": "158da9d8",
   "metadata": {},
   "outputs": [],
   "source": [
    "Model2=Flatten(name=\"flatten\")(Model2)"
   ]
  },
  {
   "cell_type": "code",
   "execution_count": 15,
   "id": "c9279557",
   "metadata": {},
   "outputs": [],
   "source": [
    "Model2=Dense(128, activation=\"relu\")(Model2)"
   ]
  },
  {
   "cell_type": "code",
   "execution_count": 16,
   "id": "8f23644f",
   "metadata": {},
   "outputs": [],
   "source": [
    "Model2=Dropout(0.5)(Model2)"
   ]
  },
  {
   "cell_type": "code",
   "execution_count": 17,
   "id": "c61e652a",
   "metadata": {},
   "outputs": [],
   "source": [
    "Model2=Dense(2, activation=\"softmax\")(Model2)"
   ]
  },
  {
   "cell_type": "code",
   "execution_count": 18,
   "id": "a92f9e0f",
   "metadata": {},
   "outputs": [],
   "source": [
    "#Complete model ready to train.\n",
    "Mask_Detector_Model=Model(inputs=Model1.input, outputs=Model2)"
   ]
  },
  {
   "cell_type": "code",
   "execution_count": 19,
   "id": "e1199f28",
   "metadata": {},
   "outputs": [],
   "source": [
    "for layer in Model1.layers:\n",
    "    layer.trainable= False"
   ]
  },
  {
   "cell_type": "code",
   "execution_count": 24,
   "id": "ad7e8282",
   "metadata": {},
   "outputs": [],
   "source": [
    "from tensorflow.keras.optimizers.schedules import ExponentialDecay\n",
    "INIT_LR = 1e-4  # Initial learning rate\n",
    "EPOCHS = 20     # Number of epochs\n",
    "BS = 32         # Batch size\n",
    "\n",
    "# Define learning rate schedule\n",
    "learning_rate_schedule = ExponentialDecay(\n",
    "    initial_learning_rate=INIT_LR, \n",
    "    decay_steps=EPOCHS * 6042 // BS,  # Total steps based on your dataset size\n",
    "    decay_rate=0.96,  # Decay rate, can be adjusted as needed\n",
    "    staircase=True\n",
    ")"
   ]
  },
  {
   "cell_type": "code",
   "execution_count": 25,
   "id": "8a8dbc2d",
   "metadata": {},
   "outputs": [],
   "source": [
    "#compiling the model.\n",
    "opt = Adam(learning_rate=learning_rate_schedule)\n",
    "Mask_Detector_Model.compile(loss='binary_crossentropy', optimizer = opt ,metrics=[\"accuracy\"])"
   ]
  },
  {
   "cell_type": "code",
   "execution_count": 26,
   "id": "ab4813a0",
   "metadata": {},
   "outputs": [
    {
     "name": "stdout",
     "output_type": "stream",
     "text": [
      "Epoch 1/20\n",
      "WARNING:tensorflow:From C:\\ProgramData\\Anaconda3\\Lib\\site-packages\\keras\\src\\utils\\tf_utils.py:492: The name tf.ragged.RaggedTensorValue is deprecated. Please use tf.compat.v1.ragged.RaggedTensorValue instead.\n",
      "\n",
      "WARNING:tensorflow:From C:\\ProgramData\\Anaconda3\\Lib\\site-packages\\keras\\src\\engine\\base_layer_utils.py:384: The name tf.executing_eagerly_outside_functions is deprecated. Please use tf.compat.v1.executing_eagerly_outside_functions instead.\n",
      "\n",
      "188/188 [==============================] - ETA: 0s - loss: 0.2784 - accuracy: 0.9143WARNING:tensorflow:Your input ran out of data; interrupting training. Make sure that your dataset or generator can generate at least `steps_per_epoch * epochs` batches (in this case, 47 batches). You may need to use the repeat() function when building your dataset.\n",
      "188/188 [==============================] - 188s 984ms/step - loss: 0.2784 - accuracy: 0.9143 - val_loss: 0.0913 - val_accuracy: 0.9788\n",
      "Epoch 2/20\n",
      "188/188 [==============================] - 150s 794ms/step - loss: 0.0827 - accuracy: 0.9777\n",
      "Epoch 3/20\n",
      "188/188 [==============================] - 142s 756ms/step - loss: 0.0641 - accuracy: 0.9800\n",
      "Epoch 4/20\n",
      "188/188 [==============================] - 138s 732ms/step - loss: 0.0506 - accuracy: 0.9850\n",
      "Epoch 5/20\n",
      "188/188 [==============================] - 140s 744ms/step - loss: 0.0455 - accuracy: 0.9870\n",
      "Epoch 6/20\n",
      "188/188 [==============================] - 139s 738ms/step - loss: 0.0419 - accuracy: 0.9872\n",
      "Epoch 7/20\n",
      "188/188 [==============================] - 138s 736ms/step - loss: 0.0366 - accuracy: 0.9903\n",
      "Epoch 8/20\n",
      "188/188 [==============================] - 142s 757ms/step - loss: 0.0334 - accuracy: 0.9890\n",
      "Epoch 9/20\n",
      "188/188 [==============================] - 139s 741ms/step - loss: 0.0328 - accuracy: 0.9900\n",
      "Epoch 10/20\n",
      "188/188 [==============================] - 140s 746ms/step - loss: 0.0333 - accuracy: 0.9900\n",
      "Epoch 11/20\n",
      "188/188 [==============================] - 141s 751ms/step - loss: 0.0293 - accuracy: 0.9905\n",
      "Epoch 12/20\n",
      "188/188 [==============================] - 140s 742ms/step - loss: 0.0287 - accuracy: 0.9910\n",
      "Epoch 13/20\n",
      "188/188 [==============================] - 141s 750ms/step - loss: 0.0301 - accuracy: 0.9915\n",
      "Epoch 14/20\n",
      "188/188 [==============================] - 141s 751ms/step - loss: 0.0294 - accuracy: 0.9907\n",
      "Epoch 15/20\n",
      "188/188 [==============================] - 141s 748ms/step - loss: 0.0286 - accuracy: 0.9903\n",
      "Epoch 16/20\n",
      "188/188 [==============================] - 144s 767ms/step - loss: 0.0264 - accuracy: 0.9910\n",
      "Epoch 17/20\n",
      "188/188 [==============================] - 142s 754ms/step - loss: 0.0248 - accuracy: 0.9938\n",
      "Epoch 18/20\n",
      "188/188 [==============================] - 145s 768ms/step - loss: 0.0220 - accuracy: 0.9943\n",
      "Epoch 19/20\n",
      "188/188 [==============================] - 145s 772ms/step - loss: 0.0205 - accuracy: 0.9932\n",
      "Epoch 20/20\n",
      "188/188 [==============================] - 140s 745ms/step - loss: 0.0187 - accuracy: 0.9943\n"
     ]
    }
   ],
   "source": [
    "#training our model.\n",
    "Trained_Model= Mask_Detector_Model.fit(Generator1.flow(x_train,y_train, batch_size=BS),\n",
    "             steps_per_epoch=len(x_train)//BS,\n",
    "             validation_data=(x_test,y_test),\n",
    "             validation_steps=len(x_test)//BS,\n",
    "             epochs=EPOCHS)"
   ]
  },
  {
   "cell_type": "code",
   "execution_count": 27,
   "id": "00a0380a",
   "metadata": {},
   "outputs": [
    {
     "name": "stdout",
     "output_type": "stream",
     "text": [
      "48/48 [==============================] - 27s 524ms/step\n"
     ]
    }
   ],
   "source": [
    "predIdxs = Mask_Detector_Model.predict(x_test, batch_size=BS)"
   ]
  },
  {
   "cell_type": "code",
   "execution_count": 28,
   "id": "b82571fe",
   "metadata": {},
   "outputs": [],
   "source": [
    "#picking indeces of max value in prediction.\n",
    "predIdxs = np.argmax(predIdxs, axis=1)"
   ]
  },
  {
   "cell_type": "code",
   "execution_count": 29,
   "id": "a144cc82",
   "metadata": {},
   "outputs": [
    {
     "name": "stdout",
     "output_type": "stream",
     "text": [
      "              precision    recall  f1-score   support\n",
      "\n",
      "   with_mask       0.99      1.00      0.99       730\n",
      "without_mask       1.00      0.99      0.99       781\n",
      "\n",
      "    accuracy                           0.99      1511\n",
      "   macro avg       0.99      0.99      0.99      1511\n",
      "weighted avg       0.99      0.99      0.99      1511\n",
      "\n"
     ]
    }
   ],
   "source": [
    "#displaying a structured report.\n",
    "print(classification_report(y_test.argmax(axis=1), predIdxs,target_names=LB.classes_))"
   ]
  },
  {
   "cell_type": "code",
   "execution_count": 32,
   "id": "2b29aea6",
   "metadata": {},
   "outputs": [],
   "source": [
    "#Saving our model in hard disk.\n",
    "#Mask_Detector_Model.save(\"mask_model_working.h5\", save_format=\"h5\")\n",
    "Mask_Detector_Model.save(\"mask_model_working.keras\")"
   ]
  },
  {
   "cell_type": "code",
   "execution_count": 31,
   "id": "97797d87",
   "metadata": {},
   "outputs": [
    {
     "data": {
      "image/png": "[encoded data removed]",
      "text/plain": [
       "<Figure size 640x480 with 1 Axes>"
      ]
     },
     "metadata": {},
     "output_type": "display_data"
    }
   ],
   "source": [
    "N = EPOCHS\n",
    "plt.style.use(\"ggplot\")\n",
    "plt.figure()\n",
    "plt.plot(np.arange(0, N), Trained_Model.history[\"accuracy\"], label=\"train_acc\")\n",
    "plt.title(\"Training Accuracy\")\n",
    "plt.xlabel(\"Epoch #\")\n",
    "plt.ylabel(\"Accuracy\")\n",
    "plt.legend(loc=\"lower left\")\n",
    "plt.savefig(\"plot_3.png\")"
   ]
  },
  {
   "cell_type": "code",
   "execution_count": null,
   "id": "31c9b256",
   "metadata": {},
   "outputs": [],
   "source": []
  }
 ],
 "metadata": {
  "kernelspec": {
   "display_name": "Python 3 (ipykernel)",
   "language": "python",
   "name": "python3"
  },
  "language_info": {
   "codemirror_mode": {
    "name": "ipython",
    "version": 3
   },
   "file_extension": ".py",
   "mimetype": "text/x-python",
   "name": "python",
   "nbconvert_exporter": "python",
   "pygments_lexer": "ipython3",
   "version": "3.11.5"
  }
 },
 "nbformat": 4,
 "nbformat_minor": 5
}
